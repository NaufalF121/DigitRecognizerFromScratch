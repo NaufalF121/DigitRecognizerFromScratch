{
 "cells": [
  {
   "cell_type": "code",
   "execution_count": 1,
   "metadata": {},
   "outputs": [],
   "source": [
    "import numpy as np\n",
    "import struct\n",
    "import pandas as pd\n",
    "import matplotlib.pyplot as plt\n",
    "import matplotlib.cm as cm\n",
    "\n",
    "def read_image(filename):\n",
    "    binfile = open(filename, 'rb')\n",
    "    buffers = binfile.read()\n",
    "    head = struct.unpack_from('>IIII', buffers, 0)\n",
    "    offset = struct.calcsize('>IIII')\n",
    "    imgNum = head[1]\n",
    "    width = head[2]\n",
    "    height = head[3]\n",
    "    bits = imgNum * width * height\n",
    "    bitsString = '>' + str(bits) + 'B'\n",
    "    imgs = struct.unpack_from(bitsString, buffers, offset)\n",
    "    binfile.close()\n",
    "    imgs = np.reshape(imgs, [imgNum, width * height])\n",
    "    return imgs\n",
    "\n",
    "def read_label(filename):\n",
    "    binfile = open(filename, 'rb')\n",
    "    buffers = binfile.read()\n",
    "    head = struct.unpack_from('>II', buffers, 0)\n",
    "    labelNum = head[1]\n",
    "    offset = struct.calcsize('>II')\n",
    "    numString = '>' + str(labelNum) + \"B\"\n",
    "    labels = struct.unpack_from(numString, buffers, offset)\n",
    "    binfile.close()\n",
    "    labels = np.reshape(labels, [labelNum])\n",
    "    return labels\n",
    "\n",
    "\n",
    "def load_mnist(path, kind='train'):\n",
    "    \"\"\"Load MNIST data from `path`\"\"\"\n",
    "    labels_path = path + '%s-labels.idx1-ubyte' % kind\n",
    "    images_path = path + '%s-images.idx3-ubyte' % kind\n",
    "    labels = read_label(labels_path)\n",
    "    images = read_image(images_path)\n",
    "    return images, labels\n",
    "\n",
    "\n",
    "def save_mnist(path, kind='train'):\n",
    "    images, labels = load_mnist(path, kind)\n",
    "    df = pd.DataFrame(images)\n",
    "    df.to_csv(path + '%s-images.csv' % kind, index=False)\n",
    "    df = pd.DataFrame(labels)\n",
    "    df.to_csv(path + '%s-labels.csv' % kind, index=False)\n",
    "\n",
    "\n",
    "train_images, train_labels = load_mnist('RawData/', kind='train')\n",
    "test_images, test_labels = load_mnist('RawData/', kind='t10k')"
   ]
  },
  {
   "cell_type": "markdown",
   "metadata": {},
   "source": [
    "Example"
   ]
  },
  {
   "cell_type": "code",
   "execution_count": 2,
   "metadata": {},
   "outputs": [
    {
     "data": {
      "image/png": "[encoded data removed]",
      "text/plain": [
       "<Figure size 640x480 with 1 Axes>"
      ]
     },
     "metadata": {},
     "output_type": "display_data"
    }
   ],
   "source": [
    "plt.imshow(train_images[0].reshape(28, 28), cmap=cm.binary)\n",
    "plt.title(f\"img of {train_labels[0]}\")\n",
    "plt.show()"
   ]
  },
  {
   "cell_type": "code",
   "execution_count": 3,
   "metadata": {},
   "outputs": [
    {
     "data": {
      "image/png": "[encoded data removed]",
      "text/plain": [
       "<Figure size 640x480 with 1 Axes>"
      ]
     },
     "metadata": {},
     "output_type": "display_data"
    }
   ],
   "source": [
    "plt.imshow(train_images[6969].reshape(28, 28), cmap=cm.binary)\n",
    "plt.title(f\"img of {train_labels[6969]}\")\n",
    "plt.show()"
   ]
  },
  {
   "cell_type": "code",
   "execution_count": 4,
   "metadata": {},
   "outputs": [
    {
     "name": "stdout",
     "output_type": "stream",
     "text": [
      "(60000, 785)\n",
      "(10000, 785)\n"
     ]
    }
   ],
   "source": [
    "import warnings\n",
    "warnings.filterwarnings('ignore')\n",
    "\n",
    "train_images = train_images / 255\n",
    "test_images = test_images / 255\n",
    "\n",
    "train_images = train_images.reshape(60000, 28, 28)\n",
    "test_images = test_images.reshape(10000, 28, 28)\n",
    "\n",
    "train_images = train_images.astype('float32')\n",
    "test_images = test_images.astype('float32')\n",
    "\n",
    "train_labels = train_labels.astype('int32')\n",
    "test_labels = test_labels.astype('int32')\n",
    "\n",
    "train_df = pd.DataFrame()\n",
    "test_df = pd.DataFrame()\n",
    "\n",
    "train_df['label'] = train_labels\n",
    "test_df['label'] = test_labels\n",
    "\n",
    "for i in range(784):\n",
    "    train_df['pixel' + str(i)] = train_images[:, :, :].reshape(60000, 784)[:, i]\n",
    "    test_df['pixel' + str(i)] = test_images[:, :, :].reshape(10000, 784)[:, i]\n",
    "\n",
    "print(train_df.shape)\n",
    "print(test_df.shape)"
   ]
  },
  {
   "cell_type": "code",
   "execution_count": null,
   "metadata": {},
   "outputs": [],
   "source": [
    "import os\n",
    "\n",
    "os.makedirs('Data', exist_ok=True)\n",
    "train_df.to_csv('Data/train.csv', index=False)\n",
    "test_df.to_csv('Data/test.csv', index=False)"
   ]
  }
 ],
 "metadata": {
  "kernelspec": {
   "display_name": "Kaggle",
   "language": "python",
   "name": "python3"
  },
  "language_info": {
   "codemirror_mode": {
    "name": "ipython",
    "version": 3
   },
   "file_extension": ".py",
   "mimetype": "text/x-python",
   "name": "python",
   "nbconvert_exporter": "python",
   "pygments_lexer": "ipython3",
   "version": "3.11.5"
  }
 },
 "nbformat": 4,
 "nbformat_minor": 2
}
