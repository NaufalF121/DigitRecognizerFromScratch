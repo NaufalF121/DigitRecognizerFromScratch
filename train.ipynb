{
 "cells": [
  {
   "cell_type": "code",
   "execution_count": 1,
   "id": "c665af9f",
   "metadata": {
    "execution": {
     "iopub.execute_input": "2023-10-21T11:43:06.815523Z",
     "iopub.status.busy": "2023-10-21T11:43:06.815128Z",
     "iopub.status.idle": "2023-10-21T11:43:19.534569Z",
     "shell.execute_reply": "2023-10-21T11:43:19.533533Z"
    },
    "papermill": {
     "duration": 12.728903,
     "end_time": "2023-10-21T11:43:19.536950",
     "exception": false,
     "start_time": "2023-10-21T11:43:06.808047",
     "status": "completed"
    },
    "tags": []
   },
   "outputs": [],
   "source": [
    "!pip install torch-summary -q"
   ]
  },
  {
   "cell_type": "code",
   "execution_count": 2,
   "id": "8a640396",
   "metadata": {
    "execution": {
     "iopub.execute_input": "2023-10-21T11:43:19.548834Z",
     "iopub.status.busy": "2023-10-21T11:43:19.548491Z",
     "iopub.status.idle": "2023-10-21T11:43:24.032757Z",
     "shell.execute_reply": "2023-10-21T11:43:24.031932Z"
    },
    "papermill": {
     "duration": 4.492651,
     "end_time": "2023-10-21T11:43:24.035028",
     "exception": false,
     "start_time": "2023-10-21T11:43:19.542377",
     "status": "completed"
    },
    "tags": []
   },
   "outputs": [],
   "source": [
    "import numpy as np\n",
    "import pandas as pd\n",
    "from collections import OrderedDict\n",
    "import torchvision\n",
    "import matplotlib.pyplot as plt\n",
    "from time import time\n",
    "from torchvision import datasets, transforms\n",
    "from torch import nn, optim\n",
    "from functools import partial\n",
    "from typing import Any, Callable, List, Optional, Type, Union\n",
    "from torchvision import models\n",
    "from torchsummary import summary\n",
    "from torch.autograd import Variable\n",
    "import torch\n",
    "import torch.nn as nn\n",
    "from torch import Tensor\n",
    "from torch.utils.data import Dataset, DataLoader, random_split"
   ]
  },
  {
   "cell_type": "code",
   "execution_count": 3,
   "id": "fd7c969f",
   "metadata": {
    "execution": {
     "iopub.execute_input": "2023-10-21T11:43:24.046480Z",
     "iopub.status.busy": "2023-10-21T11:43:24.046046Z",
     "iopub.status.idle": "2023-10-21T11:43:24.117675Z",
     "shell.execute_reply": "2023-10-21T11:43:24.116862Z"
    },
    "papermill": {
     "duration": 0.079912,
     "end_time": "2023-10-21T11:43:24.119999",
     "exception": false,
     "start_time": "2023-10-21T11:43:24.040087",
     "status": "completed"
    },
    "tags": []
   },
   "outputs": [],
   "source": [
    "import torch\n",
    "import random\n",
    "import numpy as np\n",
    "\n",
    "# Set the seed for reproducibility\n",
    "seed = 42\n",
    "torch.manual_seed(seed)\n",
    "random.seed(seed)\n",
    "np.random.seed(seed)\n",
    "if torch.cuda.is_available():\n",
    "    torch.cuda.manual_seed_all(seed)\n",
    "    torch.backends.cudnn.deterministic = True\n",
    "    torch.backends.cudnn.benchmark = False"
   ]
  },
  {
   "cell_type": "code",
   "execution_count": 4,
   "id": "6d641655",
   "metadata": {
    "execution": {
     "iopub.execute_input": "2023-10-21T11:43:24.131228Z",
     "iopub.status.busy": "2023-10-21T11:43:24.130919Z",
     "iopub.status.idle": "2023-10-21T11:43:34.674217Z",
     "shell.execute_reply": "2023-10-21T11:43:34.673242Z"
    },
    "papermill": {
     "duration": 10.551354,
     "end_time": "2023-10-21T11:43:34.676443",
     "exception": false,
     "start_time": "2023-10-21T11:43:24.125089",
     "status": "completed"
    },
    "tags": []
   },
   "outputs": [
    {
     "name": "stdout",
     "output_type": "stream",
     "text": [
      "Train shape: (60000, 785)\n",
      "T10k shape: (10000, 785)\n"
     ]
    }
   ],
   "source": [
    "train = pd.read_csv('/kaggle/input/custom-mnist/train.csv')\n",
    "val = pd.read_csv('/kaggle/input/custom-mnist/t10k.csv')\n",
    "print(f\"Train shape: {train.shape}\")\n",
    "print(f\"T10k shape: {val.shape}\")"
   ]
  },
  {
   "cell_type": "code",
   "execution_count": 5,
   "id": "d7b6c997",
   "metadata": {
    "execution": {
     "iopub.execute_input": "2023-10-21T11:43:34.688287Z",
     "iopub.status.busy": "2023-10-21T11:43:34.687954Z",
     "iopub.status.idle": "2023-10-21T11:43:34.697134Z",
     "shell.execute_reply": "2023-10-21T11:43:34.696161Z"
    },
    "papermill": {
     "duration": 0.017607,
     "end_time": "2023-10-21T11:43:34.699207",
     "exception": false,
     "start_time": "2023-10-21T11:43:34.681600",
     "status": "completed"
    },
    "tags": []
   },
   "outputs": [],
   "source": [
    "import os\n",
    "import pandas as pd\n",
    "from torchvision.io import read_image\n",
    "from torch.utils.data import Dataset\n",
    "\n",
    "class CustomMNIST(Dataset):\n",
    "    def __init__(self, csv_file=None, csv_df=None):\n",
    "        if csv_file is not None:\n",
    "            self.annotations = pd.read_csv(csv_file)\n",
    "        else:\n",
    "            self.annotations = csv_df\n",
    "        self.image_label = np.asarray(self.annotations['label'])\n",
    "        self.image_data = np.asarray(self.annotations.iloc[:,1:])\n",
    "\n",
    "    def __len__(self):\n",
    "        return len(self.image_data)\n",
    "    \n",
    "    def __getitem__(self, index):\n",
    "        image = self.image_data[index].reshape(28,28)\n",
    "        label = self.image_label[index]\n",
    "        image = torch.tensor(image).unsqueeze(0).float()\n",
    "        return (image, label)"
   ]
  },
  {
   "cell_type": "code",
   "execution_count": 6,
   "id": "eeb1db8d",
   "metadata": {
    "execution": {
     "iopub.execute_input": "2023-10-21T11:43:34.710556Z",
     "iopub.status.busy": "2023-10-21T11:43:34.710282Z",
     "iopub.status.idle": "2023-10-21T11:43:34.847464Z",
     "shell.execute_reply": "2023-10-21T11:43:34.846622Z"
    },
    "papermill": {
     "duration": 0.145079,
     "end_time": "2023-10-21T11:43:34.849510",
     "exception": false,
     "start_time": "2023-10-21T11:43:34.704431",
     "status": "completed"
    },
    "tags": []
   },
   "outputs": [],
   "source": [
    "train = CustomMNIST(csv_df=train)\n",
    "val = CustomMNIST(csv_df=val)"
   ]
  },
  {
   "cell_type": "code",
   "execution_count": 7,
   "id": "c9a61f36",
   "metadata": {
    "execution": {
     "iopub.execute_input": "2023-10-21T11:43:34.861293Z",
     "iopub.status.busy": "2023-10-21T11:43:34.861004Z",
     "iopub.status.idle": "2023-10-21T11:43:34.865897Z",
     "shell.execute_reply": "2023-10-21T11:43:34.865159Z"
    },
    "papermill": {
     "duration": 0.012656,
     "end_time": "2023-10-21T11:43:34.867652",
     "exception": false,
     "start_time": "2023-10-21T11:43:34.854996",
     "status": "completed"
    },
    "tags": []
   },
   "outputs": [],
   "source": [
    "train_dataloader = DataLoader(train,\n",
    "                             batch_size = 100,\n",
    "                             shuffle = True,\n",
    "                             num_workers = 1)\n",
    "val_dataloader = DataLoader(val,\n",
    "                           batch_size = 100,\n",
    "                           shuffle = True,\n",
    "                           num_workers =1)"
   ]
  },
  {
   "cell_type": "code",
   "execution_count": 8,
   "id": "35736122",
   "metadata": {
    "execution": {
     "iopub.execute_input": "2023-10-21T11:43:34.878998Z",
     "iopub.status.busy": "2023-10-21T11:43:34.878702Z",
     "iopub.status.idle": "2023-10-21T11:43:35.614134Z",
     "shell.execute_reply": "2023-10-21T11:43:35.613199Z"
    },
    "papermill": {
     "duration": 0.743447,
     "end_time": "2023-10-21T11:43:35.616242",
     "exception": false,
     "start_time": "2023-10-21T11:43:34.872795",
     "status": "completed"
    },
    "tags": []
   },
   "outputs": [
    {
     "data": {
      "image/png": "[encoded data removed]",
      "text/plain": [
       "<Figure size 800x800 with 9 Axes>"
      ]
     },
     "metadata": {},
     "output_type": "display_data"
    }
   ],
   "source": [
    "figure = plt.figure(figsize=(8, 8))\n",
    "cols, rows = 3, 3\n",
    "for i in range(1, cols * rows + 1):\n",
    "    sample_idx = torch.randint(len(train), size=(1,)).item()\n",
    "    img, label = train[sample_idx]\n",
    "    figure.add_subplot(rows, cols, i)\n",
    "    plt.axis(\"off\")\n",
    "    plt.imshow(img.squeeze(), cmap=\"gray\")\n",
    "    plt.title(label)\n",
    "plt.show()"
   ]
  },
  {
   "cell_type": "code",
   "execution_count": 9,
   "id": "3cd5befb",
   "metadata": {
    "execution": {
     "iopub.execute_input": "2023-10-21T11:43:35.628651Z",
     "iopub.status.busy": "2023-10-21T11:43:35.628155Z",
     "iopub.status.idle": "2023-10-21T11:43:35.634309Z",
     "shell.execute_reply": "2023-10-21T11:43:35.633495Z"
    },
    "papermill": {
     "duration": 0.01442,
     "end_time": "2023-10-21T11:43:35.636068",
     "exception": false,
     "start_time": "2023-10-21T11:43:35.621648",
     "status": "completed"
    },
    "tags": []
   },
   "outputs": [
    {
     "data": {
      "text/plain": [
       "device(type='cuda', index=0)"
      ]
     },
     "execution_count": 9,
     "metadata": {},
     "output_type": "execute_result"
    }
   ],
   "source": [
    "device = torch.device(\"cuda:0\" if torch.cuda.is_available() else \"cpu\")\n",
    "device"
   ]
  },
  {
   "cell_type": "code",
   "execution_count": 10,
   "id": "aaa9faed",
   "metadata": {
    "execution": {
     "iopub.execute_input": "2023-10-21T11:43:35.648054Z",
     "iopub.status.busy": "2023-10-21T11:43:35.647748Z",
     "iopub.status.idle": "2023-10-21T11:43:43.741093Z",
     "shell.execute_reply": "2023-10-21T11:43:43.740017Z"
    },
    "papermill": {
     "duration": 8.101823,
     "end_time": "2023-10-21T11:43:43.743186",
     "exception": false,
     "start_time": "2023-10-21T11:43:35.641363",
     "status": "completed"
    },
    "tags": []
   },
   "outputs": [
    {
     "name": "stdout",
     "output_type": "stream",
     "text": [
      "torch.Size([4, 10])\n"
     ]
    }
   ],
   "source": [
    "import torch\n",
    "import torch.nn as nn\n",
    "\n",
    "\n",
    "class block(nn.Module):\n",
    "    def __init__(\n",
    "        self, in_channels, intermediate_channels, identity_downsample=None, stride=1\n",
    "    ):\n",
    "        super().__init__()\n",
    "        self.expansion = 4\n",
    "        self.conv1 = nn.Conv2d(\n",
    "            in_channels,\n",
    "            intermediate_channels,\n",
    "            kernel_size=1,\n",
    "            stride=1,\n",
    "            padding=0,\n",
    "            bias=False,\n",
    "        )\n",
    "        self.bn1 = nn.BatchNorm2d(intermediate_channels)\n",
    "        self.conv2 = nn.Conv2d(\n",
    "            intermediate_channels,\n",
    "            intermediate_channels,\n",
    "            kernel_size=3,\n",
    "            stride=stride,\n",
    "            padding=1,\n",
    "            bias=False,\n",
    "        )\n",
    "        self.bn2 = nn.BatchNorm2d(intermediate_channels)\n",
    "        self.conv3 = nn.Conv2d(\n",
    "            intermediate_channels,\n",
    "            intermediate_channels * self.expansion,\n",
    "            kernel_size=1,\n",
    "            stride=1,\n",
    "            padding=0,\n",
    "            bias=False,\n",
    "        )\n",
    "        self.bn3 = nn.BatchNorm2d(intermediate_channels * self.expansion)\n",
    "        self.relu = nn.ReLU()\n",
    "        self.identity_downsample = identity_downsample\n",
    "        self.stride = stride\n",
    "\n",
    "    def forward(self, x):\n",
    "        identity = x.clone()\n",
    "\n",
    "        x = self.conv1(x)\n",
    "        x = self.bn1(x)\n",
    "        x = self.relu(x)\n",
    "        x = self.conv2(x)\n",
    "        x = self.bn2(x)\n",
    "        x = self.relu(x)\n",
    "        x = self.conv3(x)\n",
    "        x = self.bn3(x)\n",
    "\n",
    "        if self.identity_downsample is not None:\n",
    "            identity = self.identity_downsample(identity)\n",
    "\n",
    "        x += identity\n",
    "        x = self.relu(x)\n",
    "        return x\n",
    "\n",
    "\n",
    "class ResNet(nn.Module):\n",
    "    def __init__(self, block, layers, image_channels, num_classes):\n",
    "        super(ResNet, self).__init__()\n",
    "        self.in_channels = 784\n",
    "        self.conv1 = nn.Conv2d(\n",
    "            image_channels, 784, kernel_size=7, stride=2, padding=3, bias=False\n",
    "        )\n",
    "        self.bn1 = nn.BatchNorm2d(784)\n",
    "        self.relu = nn.ReLU()\n",
    "        self.maxpool = nn.MaxPool2d(kernel_size=3, stride=2, padding=1)\n",
    "\n",
    "        # Essentially the entire ResNet architecture are in these 4 lines below\n",
    "        self.layer1 = self._make_layer(\n",
    "            block, layers[0], intermediate_channels=64, stride=1\n",
    "        )\n",
    "        self.layer2 = self._make_layer(\n",
    "            block, layers[1], intermediate_channels=128, stride=2\n",
    "        )\n",
    "        self.layer3 = self._make_layer(\n",
    "            block, layers[2], intermediate_channels=256, stride=2\n",
    "        )\n",
    "        self.layer4 = self._make_layer(\n",
    "            block, layers[3], intermediate_channels=512, stride=2\n",
    "        )\n",
    "\n",
    "        self.avgpool = nn.AdaptiveAvgPool2d((1, 1))\n",
    "        self.fc = nn.Linear(512 * 4, num_classes)\n",
    "        \n",
    "\n",
    "    def forward(self, x):\n",
    "        x = self.conv1(x)\n",
    "        x = self.bn1(x)\n",
    "        x = self.relu(x)\n",
    "        x = self.maxpool(x)\n",
    "        x = self.layer1(x)\n",
    "        x = self.layer2(x)\n",
    "        x = self.layer3(x)\n",
    "        x = self.layer4(x)\n",
    "\n",
    "        x = self.avgpool(x)\n",
    "        x = x.reshape(x.shape[0], -1)\n",
    "        x = self.fc(x)\n",
    "        \n",
    "        return x\n",
    "\n",
    "    def _make_layer(self, block, num_residual_blocks, intermediate_channels, stride):\n",
    "        identity_downsample = None\n",
    "        layers = []\n",
    "\n",
    "        # Either if we half the input space for ex, 56x56 -> 28x28 (stride=2), or channels changes\n",
    "        # we need to adapt the Identity (skip connection) so it will be able to be added\n",
    "        # to the layer that's ahead\n",
    "        if stride != 1 or self.in_channels != intermediate_channels * 4:\n",
    "            identity_downsample = nn.Sequential(\n",
    "                nn.Conv2d(\n",
    "                    self.in_channels,\n",
    "                    intermediate_channels * 4,\n",
    "                    kernel_size=1,\n",
    "                    stride=stride,\n",
    "                    bias=False,\n",
    "                ),\n",
    "                nn.BatchNorm2d(intermediate_channels * 4),\n",
    "            )\n",
    "\n",
    "        layers.append(\n",
    "            block(self.in_channels, intermediate_channels, identity_downsample, stride)\n",
    "        )\n",
    "\n",
    "        # The expansion size is always 4 for ResNet 50,101,152\n",
    "        self.in_channels = intermediate_channels * 4\n",
    "\n",
    "        # For example for first resnet layer: 256 will be mapped to 64 as intermediate layer,\n",
    "        # then finally back to 256. Hence no identity downsample is needed, since stride = 1,\n",
    "        # and also same amount of channels.\n",
    "        for i in range(num_residual_blocks - 1):\n",
    "            layers.append(block(self.in_channels, intermediate_channels))\n",
    "\n",
    "        return nn.Sequential(*layers)\n",
    "\n",
    "\n",
    "def ResNet50(img_channel=3, num_classes=1000):\n",
    "    return ResNet(block, [3, 4, 6, 3], img_channel, num_classes)\n",
    "\n",
    "\n",
    "def ResNet101(img_channel=3, num_classes=1000):\n",
    "    return ResNet(block, [3, 4, 23, 3], img_channel, num_classes)\n",
    "\n",
    "\n",
    "def ResNet152(img_channel=3, num_classes=1000):\n",
    "    return ResNet(block, [3, 8, 36, 3], img_channel, num_classes)\n",
    "\n",
    "\n",
    "\n",
    "BATCH_SIZE = 4\n",
    "\n",
    "model = ResNet50(img_channel=1, num_classes=10).to(device)\n",
    "y = model((torch.randn(BATCH_SIZE, 1, 28, 28)).to(device)).to(device)\n",
    "print(y.size())"
   ]
  },
  {
   "cell_type": "code",
   "execution_count": 11,
   "id": "8f6c2bc1",
   "metadata": {
    "execution": {
     "iopub.execute_input": "2023-10-21T11:43:43.756244Z",
     "iopub.status.busy": "2023-10-21T11:43:43.755519Z",
     "iopub.status.idle": "2023-10-21T11:43:43.760296Z",
     "shell.execute_reply": "2023-10-21T11:43:43.759393Z"
    },
    "papermill": {
     "duration": 0.013469,
     "end_time": "2023-10-21T11:43:43.762225",
     "exception": false,
     "start_time": "2023-10-21T11:43:43.748756",
     "status": "completed"
    },
    "tags": []
   },
   "outputs": [],
   "source": [
    "def one_hot_encode(y):\n",
    "        encoded = torch.zeros([10], dtype=torch.float64)\n",
    "        encoded[y[0]] = 1.\n",
    "        return encoded"
   ]
  },
  {
   "cell_type": "code",
   "execution_count": 12,
   "id": "ec28f86c",
   "metadata": {
    "execution": {
     "iopub.execute_input": "2023-10-21T11:43:43.775131Z",
     "iopub.status.busy": "2023-10-21T11:43:43.774500Z",
     "iopub.status.idle": "2023-10-21T12:01:11.806423Z",
     "shell.execute_reply": "2023-10-21T12:01:11.805403Z"
    },
    "papermill": {
     "duration": 1048.040614,
     "end_time": "2023-10-21T12:01:11.808511",
     "exception": false,
     "start_time": "2023-10-21T11:43:43.767897",
     "status": "completed"
    },
    "tags": []
   },
   "outputs": [
    {
     "name": "stdout",
     "output_type": "stream",
     "text": [
      "Train Epoch: 1 [0/60000]\tLoss: 2.758521\n",
      "Train Epoch: 1 [10000/60000]\tLoss: 0.737689\n",
      "Train Epoch: 1 [20000/60000]\tLoss: 0.298817\n",
      "Train Epoch: 1 [30000/60000]\tLoss: 0.334095\n",
      "Train Epoch: 1 [40000/60000]\tLoss: 0.281628\n",
      "Train Epoch: 1 [50000/60000]\tLoss: 0.103502\n",
      "\n",
      "Test set: Average loss: 0.0013, Accuracy: 9552/10000 (95.5200%)\n",
      "\n",
      "Train Epoch: 2 [0/60000]\tLoss: 0.205865\n",
      "Train Epoch: 2 [10000/60000]\tLoss: 0.079181\n",
      "Train Epoch: 2 [20000/60000]\tLoss: 0.061965\n",
      "Train Epoch: 2 [30000/60000]\tLoss: 0.029875\n",
      "Train Epoch: 2 [40000/60000]\tLoss: 0.057557\n",
      "Train Epoch: 2 [50000/60000]\tLoss: 0.064452\n",
      "\n",
      "Test set: Average loss: 0.0010, Accuracy: 9685/10000 (96.8500%)\n",
      "\n",
      "Train Epoch: 3 [0/60000]\tLoss: 0.099625\n",
      "Train Epoch: 3 [10000/60000]\tLoss: 0.051739\n",
      "Train Epoch: 3 [20000/60000]\tLoss: 0.145279\n",
      "Train Epoch: 3 [30000/60000]\tLoss: 0.044110\n",
      "Train Epoch: 3 [40000/60000]\tLoss: 0.025861\n",
      "Train Epoch: 3 [50000/60000]\tLoss: 0.079861\n",
      "\n",
      "Test set: Average loss: 0.0007, Accuracy: 9758/10000 (97.5800%)\n",
      "\n",
      "Train Epoch: 4 [0/60000]\tLoss: 0.055683\n",
      "Train Epoch: 4 [10000/60000]\tLoss: 0.047707\n",
      "Train Epoch: 4 [20000/60000]\tLoss: 0.009261\n",
      "Train Epoch: 4 [30000/60000]\tLoss: 0.060485\n",
      "Train Epoch: 4 [40000/60000]\tLoss: 0.033799\n",
      "Train Epoch: 4 [50000/60000]\tLoss: 0.042279\n",
      "\n",
      "Test set: Average loss: 0.0007, Accuracy: 9785/10000 (97.8500%)\n",
      "\n",
      "Train Epoch: 5 [0/60000]\tLoss: 0.010448\n",
      "Train Epoch: 5 [10000/60000]\tLoss: 0.031343\n",
      "Train Epoch: 5 [20000/60000]\tLoss: 0.024255\n",
      "Train Epoch: 5 [30000/60000]\tLoss: 0.002590\n",
      "Train Epoch: 5 [40000/60000]\tLoss: 0.054842\n",
      "Train Epoch: 5 [50000/60000]\tLoss: 0.051955\n",
      "\n",
      "Test set: Average loss: 0.0006, Accuracy: 9816/10000 (98.1600%)\n",
      "\n",
      "Train Epoch: 6 [0/60000]\tLoss: 0.033899\n",
      "Train Epoch: 6 [10000/60000]\tLoss: 0.026778\n",
      "Train Epoch: 6 [20000/60000]\tLoss: 0.011562\n",
      "Train Epoch: 6 [30000/60000]\tLoss: 0.037264\n",
      "Train Epoch: 6 [40000/60000]\tLoss: 0.157092\n",
      "Train Epoch: 6 [50000/60000]\tLoss: 0.075048\n",
      "\n",
      "Test set: Average loss: 0.0005, Accuracy: 9838/10000 (98.3800%)\n",
      "\n",
      "Train Epoch: 7 [0/60000]\tLoss: 0.100062\n",
      "Train Epoch: 7 [10000/60000]\tLoss: 0.043775\n",
      "Train Epoch: 7 [20000/60000]\tLoss: 0.005035\n",
      "Train Epoch: 7 [30000/60000]\tLoss: 0.036088\n",
      "Train Epoch: 7 [40000/60000]\tLoss: 0.041441\n",
      "Train Epoch: 7 [50000/60000]\tLoss: 0.059716\n",
      "\n",
      "Test set: Average loss: 0.0005, Accuracy: 9833/10000 (98.3300%)\n",
      "\n",
      "Train Epoch: 8 [0/60000]\tLoss: 0.019294\n",
      "Train Epoch: 8 [10000/60000]\tLoss: 0.052291\n",
      "Train Epoch: 8 [20000/60000]\tLoss: 0.003832\n",
      "Train Epoch: 8 [30000/60000]\tLoss: 0.022803\n",
      "Train Epoch: 8 [40000/60000]\tLoss: 0.041119\n",
      "Train Epoch: 8 [50000/60000]\tLoss: 0.002257\n",
      "\n",
      "Test set: Average loss: 0.0005, Accuracy: 9855/10000 (98.5500%)\n",
      "\n",
      "Train Epoch: 9 [0/60000]\tLoss: 0.048902\n",
      "Train Epoch: 9 [10000/60000]\tLoss: 0.055971\n",
      "Train Epoch: 9 [20000/60000]\tLoss: 0.001843\n",
      "Train Epoch: 9 [30000/60000]\tLoss: 0.041175\n",
      "Train Epoch: 9 [40000/60000]\tLoss: 0.002881\n",
      "Train Epoch: 9 [50000/60000]\tLoss: 0.004330\n",
      "\n",
      "Test set: Average loss: 0.0005, Accuracy: 9849/10000 (98.4900%)\n",
      "\n",
      "Train Epoch: 10 [0/60000]\tLoss: 0.022326\n",
      "Train Epoch: 10 [10000/60000]\tLoss: 0.009247\n",
      "Train Epoch: 10 [20000/60000]\tLoss: 0.062916\n",
      "Train Epoch: 10 [30000/60000]\tLoss: 0.102382\n",
      "Train Epoch: 10 [40000/60000]\tLoss: 0.001517\n",
      "Train Epoch: 10 [50000/60000]\tLoss: 0.012224\n",
      "\n",
      "Test set: Average loss: 0.0005, Accuracy: 9840/10000 (98.4000%)\n",
      "\n",
      "Train Epoch: 11 [0/60000]\tLoss: 0.006132\n",
      "Train Epoch: 11 [10000/60000]\tLoss: 0.006235\n",
      "Train Epoch: 11 [20000/60000]\tLoss: 0.000874\n",
      "Train Epoch: 11 [30000/60000]\tLoss: 0.002406\n",
      "Train Epoch: 11 [40000/60000]\tLoss: 0.072671\n",
      "Train Epoch: 11 [50000/60000]\tLoss: 0.035372\n",
      "\n",
      "Test set: Average loss: 0.0004, Accuracy: 9885/10000 (98.8500%)\n",
      "\n",
      "Train Epoch: 12 [0/60000]\tLoss: 0.007616\n",
      "Train Epoch: 12 [10000/60000]\tLoss: 0.002001\n",
      "Train Epoch: 12 [20000/60000]\tLoss: 0.007584\n",
      "Train Epoch: 12 [30000/60000]\tLoss: 0.075200\n",
      "Train Epoch: 12 [40000/60000]\tLoss: 0.005118\n",
      "Train Epoch: 12 [50000/60000]\tLoss: 0.003014\n",
      "\n",
      "Test set: Average loss: 0.0004, Accuracy: 9879/10000 (98.7900%)\n",
      "\n",
      "Train Epoch: 13 [0/60000]\tLoss: 0.034724\n",
      "Train Epoch: 13 [10000/60000]\tLoss: 0.025528\n",
      "Train Epoch: 13 [20000/60000]\tLoss: 0.000864\n",
      "Train Epoch: 13 [30000/60000]\tLoss: 0.003716\n",
      "Train Epoch: 13 [40000/60000]\tLoss: 0.008040\n",
      "Train Epoch: 13 [50000/60000]\tLoss: 0.005255\n",
      "\n",
      "Test set: Average loss: 0.0004, Accuracy: 9876/10000 (98.7600%)\n",
      "\n",
      "Train Epoch: 14 [0/60000]\tLoss: 0.004163\n",
      "Train Epoch: 14 [10000/60000]\tLoss: 0.000508\n",
      "Train Epoch: 14 [20000/60000]\tLoss: 0.003795\n",
      "Train Epoch: 14 [30000/60000]\tLoss: 0.050537\n",
      "Train Epoch: 14 [40000/60000]\tLoss: 0.040102\n",
      "Train Epoch: 14 [50000/60000]\tLoss: 0.014815\n",
      "\n",
      "Test set: Average loss: 0.0004, Accuracy: 9901/10000 (99.0100%)\n",
      "\n"
     ]
    },
    {
     "data": {
      "image/png": "[encoded data removed]",
      "text/plain": [
       "<Figure size 1000x1000 with 2 Axes>"
      ]
     },
     "metadata": {},
     "output_type": "display_data"
    }
   ],
   "source": [
    "import random\n",
    "import matplotlib.pyplot as plt\n",
    "\n",
    "criterion = nn.CrossEntropyLoss()\n",
    "optimizer = optim.Adam(model.parameters(), lr=0.0001)\n",
    "\n",
    "train_losses = []\n",
    "train_accs = []\n",
    "val_losses = []\n",
    "val_accs = []\n",
    "\n",
    "def train(epoch):\n",
    "    model.train()\n",
    "    train_loss = 0\n",
    "    correct = 0\n",
    "    total = 0\n",
    "    for batch_idx, (data, target) in enumerate(train_dataloader):\n",
    "        data, target = data.to(device), target.to(device)\n",
    "        optimizer.zero_grad()\n",
    "        output = model(data)\n",
    "        target = target.long()\n",
    "        loss = criterion(output, target)\n",
    "        loss.backward()\n",
    "        optimizer.step()\n",
    "        train_loss += loss.item()\n",
    "        _, predicted = output.max(1)\n",
    "        total += target.size(0)\n",
    "        correct += predicted.eq(target).sum().item()\n",
    "        if batch_idx % 100 == 0:\n",
    "            print('Train Epoch: {} [{}/{}]\\tLoss: {:.6f}'.format(\n",
    "                epoch, batch_idx * len(data), len(train_dataloader.dataset),\n",
    "                loss.item()))\n",
    "    train_losses.append(train_loss / len(train_dataloader))\n",
    "    train_accs.append(100. * correct / total)\n",
    "\n",
    "def test():\n",
    "    model.eval()\n",
    "    test_loss = 0\n",
    "    correct = 0\n",
    "    total = 0\n",
    "    with torch.no_grad():\n",
    "        for data, target in val_dataloader:\n",
    "            data, target = data.to(device), target.to(device)\n",
    "            output = model(data)\n",
    "            target = target.long()\n",
    "            test_loss += criterion(output, target).item()\n",
    "            _, predicted = output.max(1)\n",
    "            total += target.size(0)\n",
    "            correct += predicted.eq(target).sum().item()\n",
    "\n",
    "    test_loss /= len(val_dataloader.dataset)\n",
    "    val_losses.append(test_loss)\n",
    "    val_accs.append(100. * correct / total)\n",
    "    print('\\nTest set: Average loss: {:.4f}, Accuracy: {}/{} ({:.4f}%)\\n'.format(\n",
    "        test_loss, correct, len(val_dataloader.dataset),\n",
    "        100. * correct / len(val_dataloader.dataset)))\n",
    "\n",
    "for epoch in range(1, 15):\n",
    "    train(epoch)\n",
    "    test()\n",
    "\n",
    "# Plot the training and validation loss and accuracy over time\n",
    "fig, axs = plt.subplots(2, 1, figsize=(10, 10))\n",
    "axs[0].plot(train_losses, label='Training Loss')\n",
    "axs[0].plot(val_losses, label='Validation Loss')\n",
    "axs[0].set_xlabel('Epoch')\n",
    "axs[0].set_ylabel('Loss')\n",
    "axs[0].legend()\n",
    "axs[1].plot(train_accs, label='Training Accuracy')\n",
    "axs[1].plot(val_accs, label='Validation Accuracy')\n",
    "axs[1].set_xlabel('Epoch')\n",
    "axs[1].set_ylabel('Accuracy')\n",
    "axs[1].legend()\n",
    "plt.show()"
   ]
  },
  {
   "cell_type": "code",
   "execution_count": 13,
   "id": "ff0df2df",
   "metadata": {
    "execution": {
     "iopub.execute_input": "2023-10-21T12:01:11.837144Z",
     "iopub.status.busy": "2023-10-21T12:01:11.836788Z",
     "iopub.status.idle": "2023-10-21T12:01:15.662251Z",
     "shell.execute_reply": "2023-10-21T12:01:15.661206Z"
    },
    "papermill": {
     "duration": 3.842186,
     "end_time": "2023-10-21T12:01:15.664304",
     "exception": false,
     "start_time": "2023-10-21T12:01:11.822118",
     "status": "completed"
    },
    "tags": []
   },
   "outputs": [
    {
     "name": "stderr",
     "output_type": "stream",
     "text": [
      "/opt/conda/lib/python3.10/site-packages/scipy/__init__.py:146: UserWarning: A NumPy version >=1.16.5 and <1.23.0 is required for this version of SciPy (detected version 1.23.5\n",
      "  warnings.warn(f\"A NumPy version >={np_minversion} and <{np_maxversion}\"\n"
     ]
    },
    {
     "data": {
      "image/png": "[encoded data removed]",
      "text/plain": [
       "<Figure size 1000x800 with 2 Axes>"
      ]
     },
     "metadata": {},
     "output_type": "display_data"
    }
   ],
   "source": [
    "# import confusion matrix\n",
    "from sklearn.metrics import confusion_matrix\n",
    "import seaborn as sns\n",
    "import matplotlib.pyplot as plt\n",
    "\n",
    "# set the model to evaluate\n",
    "model.eval()\n",
    "\n",
    "# get predictions for the test data\n",
    "y_pred = []\n",
    "y_true = []\n",
    "for data, target in val_dataloader:\n",
    "    data, target = data.to(device), target.to(device)\n",
    "    output = model(data)\n",
    "    target = target.long()\n",
    "    pred = output.argmax(dim=1, keepdim=True)\n",
    "    y_pred.extend(pred.tolist())\n",
    "    y_true.extend(target.tolist())\n",
    "\n",
    "# generate confusion matrix\n",
    "cm = confusion_matrix(y_true, y_pred)\n",
    "plt.figure(figsize=(10,8))\n",
    "sns.heatmap(cm, annot=True, fmt='g')\n",
    "plt.xlabel('Prediction')\n",
    "plt.ylabel('Label')\n",
    "plt.show()"
   ]
  },
  {
   "cell_type": "code",
   "execution_count": 14,
   "id": "825a8a67",
   "metadata": {
    "execution": {
     "iopub.execute_input": "2023-10-21T12:01:15.694241Z",
     "iopub.status.busy": "2023-10-21T12:01:15.693926Z",
     "iopub.status.idle": "2023-10-21T12:01:15.697972Z",
     "shell.execute_reply": "2023-10-21T12:01:15.697128Z"
    },
    "papermill": {
     "duration": 0.021201,
     "end_time": "2023-10-21T12:01:15.699841",
     "exception": false,
     "start_time": "2023-10-21T12:01:15.678640",
     "status": "completed"
    },
    "tags": []
   },
   "outputs": [],
   "source": [
    "PATH = '/kaggle/working/model'"
   ]
  },
  {
   "cell_type": "code",
   "execution_count": 15,
   "id": "0f35c65a",
   "metadata": {
    "execution": {
     "iopub.execute_input": "2023-10-21T12:01:15.728553Z",
     "iopub.status.busy": "2023-10-21T12:01:15.728277Z",
     "iopub.status.idle": "2023-10-21T12:01:16.588275Z",
     "shell.execute_reply": "2023-10-21T12:01:16.587205Z"
    },
    "papermill": {
     "duration": 0.876924,
     "end_time": "2023-10-21T12:01:16.590557",
     "exception": false,
     "start_time": "2023-10-21T12:01:15.713633",
     "status": "completed"
    },
    "tags": []
   },
   "outputs": [],
   "source": [
    "file_name = 'model.pth'\n",
    "model_trained = torch.jit.script(model)\n",
    "os.makedirs(PATH, exist_ok=True)\n",
    "model_trained.save(os.path.join(PATH, file_name))"
   ]
  },
  {
   "cell_type": "markdown",
   "id": "fe3c19b4",
   "metadata": {
    "papermill": {
     "duration": 0.013625,
     "end_time": "2023-10-21T12:01:16.618558",
     "exception": false,
     "start_time": "2023-10-21T12:01:16.604933",
     "status": "completed"
    },
    "tags": []
   },
   "source": [
    "### "
   ]
  }
 ],
 "metadata": {
  "kernelspec": {
   "display_name": "Python 3",
   "language": "python",
   "name": "python3"
  },
  "language_info": {
   "codemirror_mode": {
    "name": "ipython",
    "version": 3
   },
   "file_extension": ".py",
   "mimetype": "text/x-python",
   "name": "python",
   "nbconvert_exporter": "python",
   "pygments_lexer": "ipython3",
   "version": "3.10.12"
  },
  "papermill": {
   "default_parameters": {},
   "duration": 1095.936287,
   "end_time": "2023-10-21T12:01:19.386135",
   "environment_variables": {},
   "exception": null,
   "input_path": "__notebook__.ipynb",
   "output_path": "__notebook__.ipynb",
   "parameters": {},
   "start_time": "2023-10-21T11:43:03.449848",
   "version": "2.4.0"
  }
 },
 "nbformat": 4,
 "nbformat_minor": 5
}
