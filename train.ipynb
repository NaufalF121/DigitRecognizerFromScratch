{
 "cells": [
  {
   "cell_type": "code",
   "execution_count": 1,
   "id": "62bc79cb",
   "metadata": {
    "execution": {
     "iopub.execute_input": "2023-10-21T10:36:09.065244Z",
     "iopub.status.busy": "2023-10-21T10:36:09.064884Z",
     "iopub.status.idle": "2023-10-21T10:36:21.598106Z",
     "shell.execute_reply": "2023-10-21T10:36:21.596965Z"
    },
    "papermill": {
     "duration": 12.542257,
     "end_time": "2023-10-21T10:36:21.600475",
     "exception": false,
     "start_time": "2023-10-21T10:36:09.058218",
     "status": "completed"
    },
    "tags": []
   },
   "outputs": [],
   "source": [
    "!pip install torch-summary -q"
   ]
  },
  {
   "cell_type": "code",
   "execution_count": 2,
   "id": "4c4964c4",
   "metadata": {
    "execution": {
     "iopub.execute_input": "2023-10-21T10:36:21.612749Z",
     "iopub.status.busy": "2023-10-21T10:36:21.611974Z",
     "iopub.status.idle": "2023-10-21T10:36:25.855615Z",
     "shell.execute_reply": "2023-10-21T10:36:25.854784Z"
    },
    "papermill": {
     "duration": 4.252136,
     "end_time": "2023-10-21T10:36:25.858074",
     "exception": false,
     "start_time": "2023-10-21T10:36:21.605938",
     "status": "completed"
    },
    "tags": []
   },
   "outputs": [],
   "source": [
    "import numpy as np\n",
    "import pandas as pd\n",
    "from collections import OrderedDict\n",
    "import torchvision\n",
    "import matplotlib.pyplot as plt\n",
    "from time import time\n",
    "from torchvision import datasets, transforms\n",
    "from torch import nn, optim\n",
    "from functools import partial\n",
    "from typing import Any, Callable, List, Optional, Type, Union\n",
    "from torchvision import models\n",
    "from torchsummary import summary\n",
    "from torch.autograd import Variable\n",
    "import torch\n",
    "import torch.nn as nn\n",
    "from torch import Tensor\n",
    "from torch.utils.data import Dataset, DataLoader, random_split"
   ]
  },
  {
   "cell_type": "code",
   "execution_count": 3,
   "id": "c991040a",
   "metadata": {
    "execution": {
     "iopub.execute_input": "2023-10-21T10:36:25.871487Z",
     "iopub.status.busy": "2023-10-21T10:36:25.870725Z",
     "iopub.status.idle": "2023-10-21T10:36:25.939618Z",
     "shell.execute_reply": "2023-10-21T10:36:25.938712Z"
    },
    "papermill": {
     "duration": 0.077964,
     "end_time": "2023-10-21T10:36:25.941682",
     "exception": false,
     "start_time": "2023-10-21T10:36:25.863718",
     "status": "completed"
    },
    "tags": []
   },
   "outputs": [],
   "source": [
    "import torch\n",
    "import random\n",
    "import numpy as np\n",
    "\n",
    "# Set the seed for reproducibility\n",
    "seed = 42\n",
    "torch.manual_seed(seed)\n",
    "random.seed(seed)\n",
    "np.random.seed(seed)\n",
    "if torch.cuda.is_available():\n",
    "    torch.cuda.manual_seed_all(seed)"
   ]
  },
  {
   "cell_type": "code",
   "execution_count": 4,
   "id": "432924ae",
   "metadata": {
    "execution": {
     "iopub.execute_input": "2023-10-21T10:36:25.952706Z",
     "iopub.status.busy": "2023-10-21T10:36:25.952390Z",
     "iopub.status.idle": "2023-10-21T10:36:36.077151Z",
     "shell.execute_reply": "2023-10-21T10:36:36.076165Z"
    },
    "papermill": {
     "duration": 10.132727,
     "end_time": "2023-10-21T10:36:36.079443",
     "exception": false,
     "start_time": "2023-10-21T10:36:25.946716",
     "status": "completed"
    },
    "tags": []
   },
   "outputs": [
    {
     "name": "stdout",
     "output_type": "stream",
     "text": [
      "Train shape: (60000, 785)\n",
      "T10k shape: (10000, 785)\n"
     ]
    }
   ],
   "source": [
    "train = pd.read_csv('/kaggle/input/custom-mnist/train.csv')\n",
    "val = pd.read_csv('/kaggle/input/custom-mnist/t10k.csv')\n",
    "print(f\"Train shape: {train.shape}\")\n",
    "print(f\"T10k shape: {val.shape}\")"
   ]
  },
  {
   "cell_type": "code",
   "execution_count": 5,
   "id": "493da872",
   "metadata": {
    "execution": {
     "iopub.execute_input": "2023-10-21T10:36:36.090837Z",
     "iopub.status.busy": "2023-10-21T10:36:36.090547Z",
     "iopub.status.idle": "2023-10-21T10:36:36.097861Z",
     "shell.execute_reply": "2023-10-21T10:36:36.097007Z"
    },
    "papermill": {
     "duration": 0.015158,
     "end_time": "2023-10-21T10:36:36.099693",
     "exception": false,
     "start_time": "2023-10-21T10:36:36.084535",
     "status": "completed"
    },
    "tags": []
   },
   "outputs": [],
   "source": [
    "import os\n",
    "import pandas as pd\n",
    "from torchvision.io import read_image\n",
    "from torch.utils.data import Dataset\n",
    "\n",
    "class CustomMNIST(Dataset):\n",
    "    def __init__(self, csv_file=None, csv_df=None):\n",
    "        if csv_file is not None:\n",
    "            self.annotations = pd.read_csv(csv_file)\n",
    "        else:\n",
    "            self.annotations = csv_df\n",
    "        self.image_label = np.asarray(self.annotations['label'])\n",
    "        self.image_data = np.asarray(self.annotations.iloc[:,1:])\n",
    "\n",
    "    def __len__(self):\n",
    "        return len(self.image_data)\n",
    "    \n",
    "    def __getitem__(self, index):\n",
    "        image = self.image_data[index].reshape(28,28)\n",
    "        label = self.image_label[index]\n",
    "        image = torch.tensor(image).unsqueeze(0).float()\n",
    "        return (image, label)"
   ]
  },
  {
   "cell_type": "code",
   "execution_count": 6,
   "id": "a3d0d58c",
   "metadata": {
    "execution": {
     "iopub.execute_input": "2023-10-21T10:36:36.110394Z",
     "iopub.status.busy": "2023-10-21T10:36:36.110153Z",
     "iopub.status.idle": "2023-10-21T10:36:36.245722Z",
     "shell.execute_reply": "2023-10-21T10:36:36.244648Z"
    },
    "papermill": {
     "duration": 0.143321,
     "end_time": "2023-10-21T10:36:36.247903",
     "exception": false,
     "start_time": "2023-10-21T10:36:36.104582",
     "status": "completed"
    },
    "tags": []
   },
   "outputs": [],
   "source": [
    "train = CustomMNIST(csv_df=train)\n",
    "val = CustomMNIST(csv_df=val)"
   ]
  },
  {
   "cell_type": "code",
   "execution_count": 7,
   "id": "2e0528c0",
   "metadata": {
    "execution": {
     "iopub.execute_input": "2023-10-21T10:36:36.259527Z",
     "iopub.status.busy": "2023-10-21T10:36:36.258848Z",
     "iopub.status.idle": "2023-10-21T10:36:36.263734Z",
     "shell.execute_reply": "2023-10-21T10:36:36.262965Z"
    },
    "papermill": {
     "duration": 0.012554,
     "end_time": "2023-10-21T10:36:36.265585",
     "exception": false,
     "start_time": "2023-10-21T10:36:36.253031",
     "status": "completed"
    },
    "tags": []
   },
   "outputs": [],
   "source": [
    "train_dataloader = DataLoader(train,\n",
    "                             batch_size = 100,\n",
    "                             shuffle = True,\n",
    "                             num_workers = 1)\n",
    "val_dataloader = DataLoader(val,\n",
    "                           batch_size = 100,\n",
    "                           shuffle = True,\n",
    "                           num_workers =1)"
   ]
  },
  {
   "cell_type": "code",
   "execution_count": 8,
   "id": "0f1b5637",
   "metadata": {
    "execution": {
     "iopub.execute_input": "2023-10-21T10:36:36.276852Z",
     "iopub.status.busy": "2023-10-21T10:36:36.276174Z",
     "iopub.status.idle": "2023-10-21T10:36:37.036880Z",
     "shell.execute_reply": "2023-10-21T10:36:37.035937Z"
    },
    "papermill": {
     "duration": 0.768663,
     "end_time": "2023-10-21T10:36:37.039079",
     "exception": false,
     "start_time": "2023-10-21T10:36:36.270416",
     "status": "completed"
    },
    "tags": []
   },
   "outputs": [
    {
     "data": {
      "image/png": "[encoded data removed]",
      "text/plain": [
       "<Figure size 800x800 with 9 Axes>"
      ]
     },
     "metadata": {},
     "output_type": "display_data"
    }
   ],
   "source": [
    "figure = plt.figure(figsize=(8, 8))\n",
    "cols, rows = 3, 3\n",
    "for i in range(1, cols * rows + 1):\n",
    "    sample_idx = torch.randint(len(train), size=(1,)).item()\n",
    "    img, label = train[sample_idx]\n",
    "    figure.add_subplot(rows, cols, i)\n",
    "    plt.axis(\"off\")\n",
    "    plt.imshow(img.squeeze(), cmap=\"gray\")\n",
    "    plt.title(label)\n",
    "plt.show()"
   ]
  },
  {
   "cell_type": "code",
   "execution_count": 9,
   "id": "71926e88",
   "metadata": {
    "execution": {
     "iopub.execute_input": "2023-10-21T10:36:37.051170Z",
     "iopub.status.busy": "2023-10-21T10:36:37.050877Z",
     "iopub.status.idle": "2023-10-21T10:36:37.056641Z",
     "shell.execute_reply": "2023-10-21T10:36:37.055796Z"
    },
    "papermill": {
     "duration": 0.014263,
     "end_time": "2023-10-21T10:36:37.058774",
     "exception": false,
     "start_time": "2023-10-21T10:36:37.044511",
     "status": "completed"
    },
    "tags": []
   },
   "outputs": [
    {
     "data": {
      "text/plain": [
       "device(type='cuda', index=0)"
      ]
     },
     "execution_count": 9,
     "metadata": {},
     "output_type": "execute_result"
    }
   ],
   "source": [
    "device = torch.device(\"cuda:0\" if torch.cuda.is_available() else \"cpu\")\n",
    "device"
   ]
  },
  {
   "cell_type": "code",
   "execution_count": 10,
   "id": "d8b625a3",
   "metadata": {
    "execution": {
     "iopub.execute_input": "2023-10-21T10:36:37.070855Z",
     "iopub.status.busy": "2023-10-21T10:36:37.070573Z",
     "iopub.status.idle": "2023-10-21T10:36:44.737328Z",
     "shell.execute_reply": "2023-10-21T10:36:44.736120Z"
    },
    "papermill": {
     "duration": 7.675482,
     "end_time": "2023-10-21T10:36:44.739521",
     "exception": false,
     "start_time": "2023-10-21T10:36:37.064039",
     "status": "completed"
    },
    "tags": []
   },
   "outputs": [
    {
     "name": "stdout",
     "output_type": "stream",
     "text": [
      "torch.Size([4, 10])\n"
     ]
    }
   ],
   "source": [
    "import torch\n",
    "import torch.nn as nn\n",
    "\n",
    "\n",
    "class block(nn.Module):\n",
    "    def __init__(\n",
    "        self, in_channels, intermediate_channels, identity_downsample=None, stride=1\n",
    "    ):\n",
    "        super().__init__()\n",
    "        self.expansion = 4\n",
    "        self.conv1 = nn.Conv2d(\n",
    "            in_channels,\n",
    "            intermediate_channels,\n",
    "            kernel_size=1,\n",
    "            stride=1,\n",
    "            padding=0,\n",
    "            bias=False,\n",
    "        )\n",
    "        self.bn1 = nn.BatchNorm2d(intermediate_channels)\n",
    "        self.conv2 = nn.Conv2d(\n",
    "            intermediate_channels,\n",
    "            intermediate_channels,\n",
    "            kernel_size=3,\n",
    "            stride=stride,\n",
    "            padding=1,\n",
    "            bias=False,\n",
    "        )\n",
    "        self.bn2 = nn.BatchNorm2d(intermediate_channels)\n",
    "        self.conv3 = nn.Conv2d(\n",
    "            intermediate_channels,\n",
    "            intermediate_channels * self.expansion,\n",
    "            kernel_size=1,\n",
    "            stride=1,\n",
    "            padding=0,\n",
    "            bias=False,\n",
    "        )\n",
    "        self.bn3 = nn.BatchNorm2d(intermediate_channels * self.expansion)\n",
    "        self.relu = nn.ReLU()\n",
    "        self.identity_downsample = identity_downsample\n",
    "        self.stride = stride\n",
    "\n",
    "    def forward(self, x):\n",
    "        identity = x.clone()\n",
    "\n",
    "        x = self.conv1(x)\n",
    "        x = self.bn1(x)\n",
    "        x = self.relu(x)\n",
    "        x = self.conv2(x)\n",
    "        x = self.bn2(x)\n",
    "        x = self.relu(x)\n",
    "        x = self.conv3(x)\n",
    "        x = self.bn3(x)\n",
    "\n",
    "        if self.identity_downsample is not None:\n",
    "            identity = self.identity_downsample(identity)\n",
    "\n",
    "        x += identity\n",
    "        x = self.relu(x)\n",
    "        return x\n",
    "\n",
    "\n",
    "class ResNet(nn.Module):\n",
    "    def __init__(self, block, layers, image_channels, num_classes):\n",
    "        super(ResNet, self).__init__()\n",
    "        self.in_channels = 784\n",
    "        self.conv1 = nn.Conv2d(\n",
    "            image_channels, 784, kernel_size=7, stride=2, padding=3, bias=False\n",
    "        )\n",
    "        self.bn1 = nn.BatchNorm2d(784)\n",
    "        self.relu = nn.ReLU()\n",
    "        self.maxpool = nn.MaxPool2d(kernel_size=3, stride=2, padding=1)\n",
    "\n",
    "        # Essentially the entire ResNet architecture are in these 4 lines below\n",
    "        self.layer1 = self._make_layer(\n",
    "            block, layers[0], intermediate_channels=64, stride=1\n",
    "        )\n",
    "        self.layer2 = self._make_layer(\n",
    "            block, layers[1], intermediate_channels=128, stride=2\n",
    "        )\n",
    "        self.layer3 = self._make_layer(\n",
    "            block, layers[2], intermediate_channels=256, stride=2\n",
    "        )\n",
    "        self.layer4 = self._make_layer(\n",
    "            block, layers[3], intermediate_channels=512, stride=2\n",
    "        )\n",
    "\n",
    "        self.avgpool = nn.AdaptiveAvgPool2d((1, 1))\n",
    "        self.fc = nn.Linear(512 * 4, num_classes)\n",
    "        \n",
    "\n",
    "    def forward(self, x):\n",
    "        x = self.conv1(x)\n",
    "        x = self.bn1(x)\n",
    "        x = self.relu(x)\n",
    "        x = self.maxpool(x)\n",
    "        x = self.layer1(x)\n",
    "        x = self.layer2(x)\n",
    "        x = self.layer3(x)\n",
    "        x = self.layer4(x)\n",
    "\n",
    "        x = self.avgpool(x)\n",
    "        x = x.reshape(x.shape[0], -1)\n",
    "        x = self.fc(x)\n",
    "        \n",
    "        return x\n",
    "\n",
    "    def _make_layer(self, block, num_residual_blocks, intermediate_channels, stride):\n",
    "        identity_downsample = None\n",
    "        layers = []\n",
    "\n",
    "        # Either if we half the input space for ex, 56x56 -> 28x28 (stride=2), or channels changes\n",
    "        # we need to adapt the Identity (skip connection) so it will be able to be added\n",
    "        # to the layer that's ahead\n",
    "        if stride != 1 or self.in_channels != intermediate_channels * 4:\n",
    "            identity_downsample = nn.Sequential(\n",
    "                nn.Conv2d(\n",
    "                    self.in_channels,\n",
    "                    intermediate_channels * 4,\n",
    "                    kernel_size=1,\n",
    "                    stride=stride,\n",
    "                    bias=False,\n",
    "                ),\n",
    "                nn.BatchNorm2d(intermediate_channels * 4),\n",
    "            )\n",
    "\n",
    "        layers.append(\n",
    "            block(self.in_channels, intermediate_channels, identity_downsample, stride)\n",
    "        )\n",
    "\n",
    "        # The expansion size is always 4 for ResNet 50,101,152\n",
    "        self.in_channels = intermediate_channels * 4\n",
    "\n",
    "        # For example for first resnet layer: 256 will be mapped to 64 as intermediate layer,\n",
    "        # then finally back to 256. Hence no identity downsample is needed, since stride = 1,\n",
    "        # and also same amount of channels.\n",
    "        for i in range(num_residual_blocks - 1):\n",
    "            layers.append(block(self.in_channels, intermediate_channels))\n",
    "\n",
    "        return nn.Sequential(*layers)\n",
    "\n",
    "\n",
    "def ResNet50(img_channel=3, num_classes=1000):\n",
    "    return ResNet(block, [3, 4, 6, 3], img_channel, num_classes)\n",
    "\n",
    "\n",
    "def ResNet101(img_channel=3, num_classes=1000):\n",
    "    return ResNet(block, [3, 4, 23, 3], img_channel, num_classes)\n",
    "\n",
    "\n",
    "def ResNet152(img_channel=3, num_classes=1000):\n",
    "    return ResNet(block, [3, 8, 36, 3], img_channel, num_classes)\n",
    "\n",
    "\n",
    "\n",
    "BATCH_SIZE = 4\n",
    "\n",
    "model = ResNet50(img_channel=1, num_classes=10).to(device)\n",
    "y = model((torch.randn(BATCH_SIZE, 1, 28, 28)).to(device)).to(device)\n",
    "print(y.size())"
   ]
  },
  {
   "cell_type": "code",
   "execution_count": 11,
   "id": "af6a64e9",
   "metadata": {
    "execution": {
     "iopub.execute_input": "2023-10-21T10:36:44.752421Z",
     "iopub.status.busy": "2023-10-21T10:36:44.751457Z",
     "iopub.status.idle": "2023-10-21T10:36:44.756683Z",
     "shell.execute_reply": "2023-10-21T10:36:44.755805Z"
    },
    "papermill": {
     "duration": 0.013511,
     "end_time": "2023-10-21T10:36:44.758626",
     "exception": false,
     "start_time": "2023-10-21T10:36:44.745115",
     "status": "completed"
    },
    "tags": []
   },
   "outputs": [],
   "source": [
    "def one_hot_encode(y):\n",
    "        encoded = torch.zeros([10], dtype=torch.float64)\n",
    "        encoded[y[0]] = 1.\n",
    "        return encoded"
   ]
  },
  {
   "cell_type": "code",
   "execution_count": 12,
   "id": "6e192fc5",
   "metadata": {
    "execution": {
     "iopub.execute_input": "2023-10-21T10:36:44.770972Z",
     "iopub.status.busy": "2023-10-21T10:36:44.770679Z",
     "iopub.status.idle": "2023-10-21T10:46:28.253443Z",
     "shell.execute_reply": "2023-10-21T10:46:28.252418Z"
    },
    "papermill": {
     "duration": 583.491445,
     "end_time": "2023-10-21T10:46:28.255449",
     "exception": false,
     "start_time": "2023-10-21T10:36:44.764004",
     "status": "completed"
    },
    "tags": []
   },
   "outputs": [
    {
     "name": "stdout",
     "output_type": "stream",
     "text": [
      "Train Epoch: 1 [0/60000]\tLoss: 2.758521\n",
      "Train Epoch: 1 [10000/60000]\tLoss: 0.617520\n",
      "Train Epoch: 1 [20000/60000]\tLoss: 0.380017\n",
      "Train Epoch: 1 [30000/60000]\tLoss: 0.277896\n",
      "Train Epoch: 1 [40000/60000]\tLoss: 0.153522\n",
      "Train Epoch: 1 [50000/60000]\tLoss: 0.132472\n",
      "\n",
      "Test set: Average loss: 0.0014, Accuracy: 9524/10000 (95.2400%)\n",
      "\n",
      "Train Epoch: 2 [0/60000]\tLoss: 0.062856\n",
      "Train Epoch: 2 [10000/60000]\tLoss: 0.071450\n",
      "Train Epoch: 2 [20000/60000]\tLoss: 0.089624\n",
      "Train Epoch: 2 [30000/60000]\tLoss: 0.051485\n",
      "Train Epoch: 2 [40000/60000]\tLoss: 0.121109\n",
      "Train Epoch: 2 [50000/60000]\tLoss: 0.103066\n",
      "\n",
      "Test set: Average loss: 0.0010, Accuracy: 9666/10000 (96.6600%)\n",
      "\n",
      "Train Epoch: 3 [0/60000]\tLoss: 0.136238\n",
      "Train Epoch: 3 [10000/60000]\tLoss: 0.040142\n",
      "Train Epoch: 3 [20000/60000]\tLoss: 0.127620\n",
      "Train Epoch: 3 [30000/60000]\tLoss: 0.063319\n",
      "Train Epoch: 3 [40000/60000]\tLoss: 0.031153\n",
      "Train Epoch: 3 [50000/60000]\tLoss: 0.159782\n",
      "\n",
      "Test set: Average loss: 0.0009, Accuracy: 9714/10000 (97.1400%)\n",
      "\n",
      "Train Epoch: 4 [0/60000]\tLoss: 0.037255\n",
      "Train Epoch: 4 [10000/60000]\tLoss: 0.106765\n",
      "Train Epoch: 4 [20000/60000]\tLoss: 0.014417\n",
      "Train Epoch: 4 [30000/60000]\tLoss: 0.043286\n",
      "Train Epoch: 4 [40000/60000]\tLoss: 0.048872\n",
      "Train Epoch: 4 [50000/60000]\tLoss: 0.057854\n",
      "\n",
      "Test set: Average loss: 0.0006, Accuracy: 9822/10000 (98.2200%)\n",
      "\n",
      "Train Epoch: 5 [0/60000]\tLoss: 0.003950\n",
      "Train Epoch: 5 [10000/60000]\tLoss: 0.013092\n",
      "Train Epoch: 5 [20000/60000]\tLoss: 0.038310\n",
      "Train Epoch: 5 [30000/60000]\tLoss: 0.002286\n",
      "Train Epoch: 5 [40000/60000]\tLoss: 0.083923\n",
      "Train Epoch: 5 [50000/60000]\tLoss: 0.078931\n",
      "\n",
      "Test set: Average loss: 0.0007, Accuracy: 9803/10000 (98.0300%)\n",
      "\n",
      "Train Epoch: 6 [0/60000]\tLoss: 0.037712\n",
      "Train Epoch: 6 [10000/60000]\tLoss: 0.009600\n",
      "Train Epoch: 6 [20000/60000]\tLoss: 0.026413\n",
      "Train Epoch: 6 [30000/60000]\tLoss: 0.003372\n",
      "Train Epoch: 6 [40000/60000]\tLoss: 0.070138\n",
      "Train Epoch: 6 [50000/60000]\tLoss: 0.030839\n",
      "\n",
      "Test set: Average loss: 0.0006, Accuracy: 9821/10000 (98.2100%)\n",
      "\n",
      "Train Epoch: 7 [0/60000]\tLoss: 0.062135\n",
      "Train Epoch: 7 [10000/60000]\tLoss: 0.022219\n",
      "Train Epoch: 7 [20000/60000]\tLoss: 0.011594\n",
      "Train Epoch: 7 [30000/60000]\tLoss: 0.035275\n",
      "Train Epoch: 7 [40000/60000]\tLoss: 0.041445\n",
      "Train Epoch: 7 [50000/60000]\tLoss: 0.070682\n",
      "\n",
      "Test set: Average loss: 0.0005, Accuracy: 9864/10000 (98.6400%)\n",
      "\n",
      "Train Epoch: 8 [0/60000]\tLoss: 0.006170\n",
      "Train Epoch: 8 [10000/60000]\tLoss: 0.006577\n",
      "Train Epoch: 8 [20000/60000]\tLoss: 0.008349\n",
      "Train Epoch: 8 [30000/60000]\tLoss: 0.007549\n",
      "Train Epoch: 8 [40000/60000]\tLoss: 0.003994\n",
      "Train Epoch: 8 [50000/60000]\tLoss: 0.013273\n",
      "\n",
      "Test set: Average loss: 0.0006, Accuracy: 9829/10000 (98.2900%)\n",
      "\n",
      "Train Epoch: 9 [0/60000]\tLoss: 0.101649\n",
      "Train Epoch: 9 [10000/60000]\tLoss: 0.033735\n",
      "Train Epoch: 9 [20000/60000]\tLoss: 0.003119\n",
      "Train Epoch: 9 [30000/60000]\tLoss: 0.029145\n",
      "Train Epoch: 9 [40000/60000]\tLoss: 0.053403\n",
      "Train Epoch: 9 [50000/60000]\tLoss: 0.001106\n",
      "\n",
      "Test set: Average loss: 0.0005, Accuracy: 9851/10000 (98.5100%)\n",
      "\n",
      "Train Epoch: 10 [0/60000]\tLoss: 0.006992\n",
      "Train Epoch: 10 [10000/60000]\tLoss: 0.000949\n",
      "Train Epoch: 10 [20000/60000]\tLoss: 0.014806\n",
      "Train Epoch: 10 [30000/60000]\tLoss: 0.109824\n",
      "Train Epoch: 10 [40000/60000]\tLoss: 0.022952\n",
      "Train Epoch: 10 [50000/60000]\tLoss: 0.002992\n",
      "\n",
      "Test set: Average loss: 0.0005, Accuracy: 9843/10000 (98.4300%)\n",
      "\n",
      "Train Epoch: 11 [0/60000]\tLoss: 0.012984\n",
      "Train Epoch: 11 [10000/60000]\tLoss: 0.014459\n",
      "Train Epoch: 11 [20000/60000]\tLoss: 0.001603\n",
      "Train Epoch: 11 [30000/60000]\tLoss: 0.018866\n",
      "Train Epoch: 11 [40000/60000]\tLoss: 0.008825\n",
      "Train Epoch: 11 [50000/60000]\tLoss: 0.010798\n",
      "\n",
      "Test set: Average loss: 0.0005, Accuracy: 9871/10000 (98.7100%)\n",
      "\n",
      "Train Epoch: 12 [0/60000]\tLoss: 0.003311\n",
      "Train Epoch: 12 [10000/60000]\tLoss: 0.003932\n",
      "Train Epoch: 12 [20000/60000]\tLoss: 0.003585\n",
      "Train Epoch: 12 [30000/60000]\tLoss: 0.023867\n",
      "Train Epoch: 12 [40000/60000]\tLoss: 0.000840\n",
      "Train Epoch: 12 [50000/60000]\tLoss: 0.027660\n",
      "\n",
      "Test set: Average loss: 0.0005, Accuracy: 9867/10000 (98.6700%)\n",
      "\n",
      "Train Epoch: 13 [0/60000]\tLoss: 0.018995\n",
      "Train Epoch: 13 [10000/60000]\tLoss: 0.001825\n",
      "Train Epoch: 13 [20000/60000]\tLoss: 0.001381\n",
      "Train Epoch: 13 [30000/60000]\tLoss: 0.036421\n",
      "Train Epoch: 13 [40000/60000]\tLoss: 0.062675\n",
      "Train Epoch: 13 [50000/60000]\tLoss: 0.046983\n",
      "\n",
      "Test set: Average loss: 0.0004, Accuracy: 9894/10000 (98.9400%)\n",
      "\n",
      "Train Epoch: 14 [0/60000]\tLoss: 0.081271\n",
      "Train Epoch: 14 [10000/60000]\tLoss: 0.006406\n",
      "Train Epoch: 14 [20000/60000]\tLoss: 0.000867\n",
      "Train Epoch: 14 [30000/60000]\tLoss: 0.003733\n",
      "Train Epoch: 14 [40000/60000]\tLoss: 0.001461\n",
      "Train Epoch: 14 [50000/60000]\tLoss: 0.003499\n",
      "\n",
      "Test set: Average loss: 0.0004, Accuracy: 9885/10000 (98.8500%)\n",
      "\n"
     ]
    },
    {
     "data": {
      "image/png": "[encoded data removed]",
      "text/plain": [
       "<Figure size 1000x1000 with 2 Axes>"
      ]
     },
     "metadata": {},
     "output_type": "display_data"
    }
   ],
   "source": [
    "import random\n",
    "import matplotlib.pyplot as plt\n",
    "\n",
    "criterion = nn.CrossEntropyLoss()\n",
    "optimizer = optim.Adam(model.parameters(), lr=0.0001)\n",
    "\n",
    "train_losses = []\n",
    "train_accs = []\n",
    "val_losses = []\n",
    "val_accs = []\n",
    "\n",
    "def train(epoch):\n",
    "    model.train()\n",
    "    train_loss = 0\n",
    "    correct = 0\n",
    "    total = 0\n",
    "    for batch_idx, (data, target) in enumerate(train_dataloader):\n",
    "        data, target = data.to(device), target.to(device)\n",
    "        optimizer.zero_grad()\n",
    "        output = model(data)\n",
    "        target = target.long()\n",
    "        loss = criterion(output, target)\n",
    "        loss.backward()\n",
    "        optimizer.step()\n",
    "        train_loss += loss.item()\n",
    "        _, predicted = output.max(1)\n",
    "        total += target.size(0)\n",
    "        correct += predicted.eq(target).sum().item()\n",
    "        if batch_idx % 100 == 0:\n",
    "            print('Train Epoch: {} [{}/{}]\\tLoss: {:.6f}'.format(\n",
    "                epoch, batch_idx * len(data), len(train_dataloader.dataset),\n",
    "                loss.item()))\n",
    "    train_losses.append(train_loss / len(train_dataloader))\n",
    "    train_accs.append(100. * correct / total)\n",
    "\n",
    "def test():\n",
    "    model.eval()\n",
    "    test_loss = 0\n",
    "    correct = 0\n",
    "    total = 0\n",
    "    with torch.no_grad():\n",
    "        for data, target in val_dataloader:\n",
    "            data, target = data.to(device), target.to(device)\n",
    "            output = model(data)\n",
    "            target = target.long()\n",
    "            test_loss += criterion(output, target).item()\n",
    "            _, predicted = output.max(1)\n",
    "            total += target.size(0)\n",
    "            correct += predicted.eq(target).sum().item()\n",
    "\n",
    "    test_loss /= len(val_dataloader.dataset)\n",
    "    val_losses.append(test_loss)\n",
    "    val_accs.append(100. * correct / total)\n",
    "    print('\\nTest set: Average loss: {:.4f}, Accuracy: {}/{} ({:.4f}%)\\n'.format(\n",
    "        test_loss, correct, len(val_dataloader.dataset),\n",
    "        100. * correct / len(val_dataloader.dataset)))\n",
    "\n",
    "for epoch in range(1, 15):\n",
    "    train(epoch)\n",
    "    test()\n",
    "\n",
    "# Plot the training and validation loss and accuracy over time\n",
    "fig, axs = plt.subplots(2, 1, figsize=(10, 10))\n",
    "axs[0].plot(train_losses, label='Training Loss')\n",
    "axs[0].plot(val_losses, label='Validation Loss')\n",
    "axs[0].set_xlabel('Epoch')\n",
    "axs[0].set_ylabel('Loss')\n",
    "axs[0].legend()\n",
    "axs[1].plot(train_accs, label='Training Accuracy')\n",
    "axs[1].plot(val_accs, label='Validation Accuracy')\n",
    "axs[1].set_xlabel('Epoch')\n",
    "axs[1].set_ylabel('Accuracy')\n",
    "axs[1].legend()\n",
    "plt.show()"
   ]
  },
  {
   "cell_type": "code",
   "execution_count": 13,
   "id": "b12f18ff",
   "metadata": {
    "execution": {
     "iopub.execute_input": "2023-10-21T10:46:28.283292Z",
     "iopub.status.busy": "2023-10-21T10:46:28.283002Z",
     "iopub.status.idle": "2023-10-21T10:46:32.081921Z",
     "shell.execute_reply": "2023-10-21T10:46:32.080957Z"
    },
    "papermill": {
     "duration": 3.815293,
     "end_time": "2023-10-21T10:46:32.084168",
     "exception": false,
     "start_time": "2023-10-21T10:46:28.268875",
     "status": "completed"
    },
    "tags": []
   },
   "outputs": [
    {
     "name": "stderr",
     "output_type": "stream",
     "text": [
      "/opt/conda/lib/python3.10/site-packages/scipy/__init__.py:146: UserWarning: A NumPy version >=1.16.5 and <1.23.0 is required for this version of SciPy (detected version 1.23.5\n",
      "  warnings.warn(f\"A NumPy version >={np_minversion} and <{np_maxversion}\"\n"
     ]
    },
    {
     "data": {
      "image/png": "[encoded data removed]",
      "text/plain": [
       "<Figure size 1000x800 with 2 Axes>"
      ]
     },
     "metadata": {},
     "output_type": "display_data"
    }
   ],
   "source": [
    "# import confusion matrix\n",
    "from sklearn.metrics import confusion_matrix\n",
    "import seaborn as sns\n",
    "import matplotlib.pyplot as plt\n",
    "\n",
    "# set the model to evaluate\n",
    "model.eval()\n",
    "\n",
    "# get predictions for the test data\n",
    "y_pred = []\n",
    "y_true = []\n",
    "for data, target in val_dataloader:\n",
    "    data, target = data.to(device), target.to(device)\n",
    "    output = model(data)\n",
    "    target = target.long()\n",
    "    pred = output.argmax(dim=1, keepdim=True)\n",
    "    y_pred.extend(pred.tolist())\n",
    "    y_true.extend(target.tolist())\n",
    "\n",
    "# generate confusion matrix\n",
    "cm = confusion_matrix(y_true, y_pred)\n",
    "plt.figure(figsize=(10,8))\n",
    "sns.heatmap(cm, annot=True, fmt='g')\n",
    "plt.xlabel('Prediction')\n",
    "plt.ylabel('Label')\n",
    "plt.show()"
   ]
  },
  {
   "cell_type": "code",
   "execution_count": 14,
   "id": "c7c673d2",
   "metadata": {
    "execution": {
     "iopub.execute_input": "2023-10-21T10:46:32.113150Z",
     "iopub.status.busy": "2023-10-21T10:46:32.112854Z",
     "iopub.status.idle": "2023-10-21T10:46:32.116923Z",
     "shell.execute_reply": "2023-10-21T10:46:32.116145Z"
    },
    "papermill": {
     "duration": 0.020631,
     "end_time": "2023-10-21T10:46:32.118784",
     "exception": false,
     "start_time": "2023-10-21T10:46:32.098153",
     "status": "completed"
    },
    "tags": []
   },
   "outputs": [],
   "source": [
    "PATH = '/kaggle/working/model'"
   ]
  },
  {
   "cell_type": "code",
   "execution_count": 15,
   "id": "1391afb5",
   "metadata": {
    "execution": {
     "iopub.execute_input": "2023-10-21T10:46:32.147140Z",
     "iopub.status.busy": "2023-10-21T10:46:32.146876Z",
     "iopub.status.idle": "2023-10-21T10:46:32.324142Z",
     "shell.execute_reply": "2023-10-21T10:46:32.323260Z"
    },
    "papermill": {
     "duration": 0.19423,
     "end_time": "2023-10-21T10:46:32.326580",
     "exception": false,
     "start_time": "2023-10-21T10:46:32.132350",
     "status": "completed"
    },
    "tags": []
   },
   "outputs": [],
   "source": [
    "torch.save(model.state_dict(), PATH)"
   ]
  },
  {
   "cell_type": "markdown",
   "id": "1fa9ad13",
   "metadata": {
    "papermill": {
     "duration": 0.01369,
     "end_time": "2023-10-21T10:46:32.354353",
     "exception": false,
     "start_time": "2023-10-21T10:46:32.340663",
     "status": "completed"
    },
    "tags": []
   },
   "source": [
    "### "
   ]
  }
 ],
 "metadata": {
  "kernelspec": {
   "display_name": "Python 3",
   "language": "python",
   "name": "python3"
  },
  "language_info": {
   "codemirror_mode": {
    "name": "ipython",
    "version": 3
   },
   "file_extension": ".py",
   "mimetype": "text/x-python",
   "name": "python",
   "nbconvert_exporter": "python",
   "pygments_lexer": "ipython3",
   "version": "3.10.12"
  },
  "papermill": {
   "default_parameters": {},
   "duration": 628.512234,
   "end_time": "2023-10-21T10:46:34.192333",
   "environment_variables": {},
   "exception": null,
   "input_path": "__notebook__.ipynb",
   "output_path": "__notebook__.ipynb",
   "parameters": {},
   "start_time": "2023-10-21T10:36:05.680099",
   "version": "2.4.0"
  }
 },
 "nbformat": 4,
 "nbformat_minor": 5
}
